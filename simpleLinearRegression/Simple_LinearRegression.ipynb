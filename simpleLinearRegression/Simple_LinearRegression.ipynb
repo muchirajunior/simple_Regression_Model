{
 "cells": [
  {
   "cell_type": "markdown",
   "metadata": {},
   "source": [
    "# Data visualization and plotting\n",
    "#using the matplotlib library\n",
    "                                                    BY MUCHIRA JUNIOR"
   ]
  },
  {
   "cell_type": "code",
   "execution_count": 6,
   "metadata": {},
   "outputs": [],
   "source": [
    "#import the matplotlib and call a class pyplot as plt\n",
    "import matplotlib.pyplot as plt\n",
    "#import numpy library\n",
    "import numpy as np"
   ]
  },
  {
   "cell_type": "code",
   "execution_count": 7,
   "metadata": {},
   "outputs": [],
   "source": [
    "from sklearn import datasets , linear_model\n"
   ]
  },
  {
   "cell_type": "code",
   "execution_count": 8,
   "metadata": {},
   "outputs": [
    {
     "data": {
      "image/png": "[encoded data removed]",
      "text/plain": [
       "<Figure size 432x288 with 1 Axes>"
      ]
     },
     "metadata": {
      "needs_background": "light"
     },
     "output_type": "display_data"
    }
   ],
   "source": [
    "#plot a radom variable \n",
    "x = np.random.randint(100 , size =25)\n",
    "y =x*x\n",
    "plt.scatter (x , y ) \n",
    "plt.show ()"
   ]
  },
  {
   "cell_type": "markdown",
   "metadata": {},
   "source": [
    "# SIMPLE LINEAR REGRESSION\n",
    "made by MUCHIRA JN"
   ]
  },
  {
   "cell_type": "code",
   "execution_count": 9,
   "metadata": {},
   "outputs": [],
   "source": [
    "#import datasets and linearmodel algorithim from sklearn \n",
    "from sklearn import datasets , linear_model"
   ]
  },
  {
   "cell_type": "code",
   "execution_count": 17,
   "metadata": {},
   "outputs": [
    {
     "data": {
      "text/plain": [
       "(442, 10)"
      ]
     },
     "execution_count": 17,
     "metadata": {},
     "output_type": "execute_result"
    }
   ],
   "source": [
    "#loading our data \n",
    "d = datasets . load_diabetes ()\n",
    "X = d . data\n",
    "y = d . target\n",
    "np.shape(X)"
   ]
  },
  {
   "cell_type": "code",
   "execution_count": null,
   "metadata": {},
   "outputs": [],
   "source": []
  },
  {
   "cell_type": "code",
   "execution_count": 18,
   "metadata": {},
   "outputs": [
    {
     "data": {
      "text/plain": [
       "(442, 1)"
      ]
     },
     "execution_count": 18,
     "metadata": {},
     "output_type": "execute_result"
    }
   ],
   "source": [
    "#reshaping the data to take a column\n",
    "X = X [: ,2]\n",
    "X = X . reshape ( -1 , 1)\n",
    "y = y . reshape ( -1 , 1)\n",
    "np.shape(X)"
   ]
  },
  {
   "cell_type": "code",
   "execution_count": 19,
   "metadata": {},
   "outputs": [],
   "source": [
    "#spliting the data for traininning and testing\n",
    "X_train = X [: -80]\n",
    "y_train = y [: -80]\n",
    "X_test = X [ -80:]\n",
    "y_test = y [ -80:]\n"
   ]
  },
  {
   "cell_type": "code",
   "execution_count": 20,
   "metadata": {},
   "outputs": [
    {
     "data": {
      "text/plain": [
       "0.36469910696163765"
      ]
     },
     "execution_count": 20,
     "metadata": {},
     "output_type": "execute_result"
    }
   ],
   "source": [
    "#making and trainning our linear model\n",
    "linear_reg = linear_model . LinearRegression ()\n",
    "linear_reg . fit ( X_train , y_train )\n",
    "#LinearRegression(copy_X = True , fit_intercept = True , n_jobs=1 , normalize = False )\n",
    "linear_reg . score ( X_test , y_test )"
   ]
  },
  {
   "cell_type": "code",
   "execution_count": 22,
   "metadata": {},
   "outputs": [
    {
     "name": "stdout",
     "output_type": "stream",
     "text": [
      "\n",
      "       GRAPH OF LINE OF THE BEST FIT \n",
      "\n"
     ]
    },
    {
     "data": {
      "image/png": "[encoded data removed]",
      "text/plain": [
       "<Figure size 432x288 with 1 Axes>"
      ]
     },
     "metadata": {
      "needs_background": "light"
     },
     "output_type": "display_data"
    },
    {
     "name": "stdout",
     "output_type": "stream",
     "text": [
      "\n",
      "  \t \t \t \t \t \t \t \t BY MUCHIRA JUNIOR \n",
      "\n"
     ]
    }
   ],
   "source": [
    "#plotting the ligression model on a graph using the pyplot class\n",
    "plt . scatter ( X_test , y_test )\n",
    "plt . plot ( X_test , linear_reg . predict ( X_test ) )\n",
    "print(\"\\n       GRAPH OF LINE OF THE BEST FIT \\n\")\n",
    "plt . show ()\n",
    "print(\"\\n  \\t \\t \\t \\t \\t \\t \\t \\t BY MUCHIRA JUNIOR \\n\")"
   ]
  }
 ],
 "metadata": {
  "kernelspec": {
   "display_name": "Python 3",
   "language": "python",
   "name": "python3"
  },
  "language_info": {
   "codemirror_mode": {
    "name": "ipython",
    "version": 3
   },
   "file_extension": ".py",
   "mimetype": "text/x-python",
   "name": "python",
   "nbconvert_exporter": "python",
   "pygments_lexer": "ipython3",
   "version": "3.7.4"
  }
 },
 "nbformat": 4,
 "nbformat_minor": 2
}
